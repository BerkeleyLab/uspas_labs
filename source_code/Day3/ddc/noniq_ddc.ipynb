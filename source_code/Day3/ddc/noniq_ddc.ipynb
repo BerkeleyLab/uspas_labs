{
 "cells": [
  {
   "cell_type": "markdown",
   "metadata": {},
   "source": [
    "# Introduction\n",
    "\n",
    "This lab is a demonstration of a working Non-IQ Digital Down-Conversion (DDC) that is part of the LLRF firmware in this class.\n",
    "Read http://recycle.lbl.gov/~ldoolitt/llrf/down/reconstruct.pdf for more information.\n",
    "\n",
    "The test bench injects a sinusoidal waveform with amplitude of `SIG_AMP_CNT` and phase of `SIG_PHS_DEG` after clock cycle `CC_N0` to the DDC module `noniq_ddc.v`, which takes 6 clock cycles of latency, to produce an interleaved stream of base band I,Q signals, which is then separated with interpolation by `fiq_interp.v` by 4 cycles.\n",
    "\n",
    "The test bench also checks the expected amplitude and phase response with the produced signals, using the equations we showed in the lecture.\n",
    "\n",
    "# Exercises\n",
    "\n",
    "## Run simulation\n",
    "\n",
    "The following command will generate a waveform file, and check results.\n",
    "```bash\n",
    "make noniq_ddc.vcd\n",
    "```\n",
    "\n",
    "Inspect the waveform for timing and scaling of the process.\n",
    "Adjust parameters of the test bench file `noniq_ddc_tb.v` for stimulus signal amplitude and phase and check results.\n"
   ]
  }
 ],
 "metadata": {
  "authors": [
   {
    "name": "Qiang Du"
   }
  ],
  "kernelspec": {
   "display_name": "Python 3",
   "language": "python",
   "name": "python3"
  },
  "language_info": {
   "codemirror_mode": {
    "name": "ipython",
    "version": 3
   },
   "file_extension": ".py",
   "mimetype": "text/x-python",
   "name": "python",
   "nbconvert_exporter": "python",
   "pygments_lexer": "ipython3",
   "version": "3.8.2"
  },
  "subtitle": "Lab 10",
  "title": "Non-IQ Digital Down-Conversion",
  "vscode": {
   "interpreter": {
    "hash": "445213a42a0e253c9a968e12b105ea9b57be12018422e68920205282de5d5822"
   }
  }
 },
 "nbformat": 4,
 "nbformat_minor": 2
}
