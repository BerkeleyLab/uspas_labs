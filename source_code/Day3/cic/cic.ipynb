{
 "cells": [
  {
   "cell_type": "markdown",
   "metadata": {},
   "source": [
    "# Introduction\n",
    "\n",
    "This lab is to simulate CIC filter for its frequency response.\n",
    "\n",
    "## Simulate a simple first-order CIC filter and decimator\n",
    "\n",
    "[`cic_simple_us.v`](https://github.com/BerkeleyLab/Bedrock/blob/master/dsp/cic_simple_us.v) is a simple, first order CIC filter with internal decimation rate of $2^5$.\n",
    "\n",
    "The input signal can be defined by a text file `vin.txt` as shipped, where each line is a 16-bit unsigned input sample, valid every 5 clock cycles.\n",
    "\n",
    "Run simulation using `make cic_simple_us.vcd` and observe the filter output in `gtkwave`.\n",
    "\n",
    "\n",
    "Design your own stimulus signal by a new `vin.txt` and check the output."
   ]
  },
  {
   "cell_type": "markdown",
   "metadata": {},
   "source": [
    "## Plot frequency response of CIC filter in USPAS LLRF controller\n",
    "\n",
    "In later lab experiments you will be able to analysis the waveform output of the base band signal from our provided LLRF chassis.\n",
    "\n",
    "Run-time control of decimation factor is with the wave_samp_per ranging from 0 to 127. The total decimation factor is the product of that and a fixed factor of 23 built-in at synthesis time.\n",
    "\n",
    "Plot the magnitude and frequency response of the CIC filter given the following parameters. See lecture LLRF_DSP slide no.30 from Day2 for more information."
   ]
  },
  {
   "cell_type": "code",
   "execution_count": 1,
   "metadata": {},
   "outputs": [],
   "source": [
    "# wave_samp_per is the total decimation factor\n",
    "wave_samp_per = 5\n",
    "cic_period = 23\n",
    "R = cic_period * wave_samp_per \n",
    "M = 1 \n",
    "N = 2\n",
    "fs = 115e6  # Hz"
   ]
  },
  {
   "cell_type": "markdown",
   "metadata": {},
   "source": [
    "Try different `wave_samp_per` and check the results.\n",
    "\n",
    "How much is the bit growth?"
   ]
  }
 ],
 "metadata": {
  "authors": [
   {
    "name": "Qiang Du"
   }
  ],
  "kernelspec": {
   "display_name": "Python 3",
   "language": "python",
   "name": "python3"
  },
  "language_info": {
   "codemirror_mode": {
    "name": "ipython",
    "version": 3
   },
   "file_extension": ".py",
   "mimetype": "text/x-python",
   "name": "python",
   "nbconvert_exporter": "python",
   "pygments_lexer": "ipython3",
   "version": "3.8.2"
  },
  "subtitle": "Lab 9",
  "title": "CIC filter",
  "vscode": {
   "interpreter": {
    "hash": "445213a42a0e253c9a968e12b105ea9b57be12018422e68920205282de5d5822"
   }
  }
 },
 "nbformat": 4,
 "nbformat_minor": 2
}
