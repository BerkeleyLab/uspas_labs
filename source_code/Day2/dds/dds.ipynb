{
 "cells": [
  {
   "attachments": {},
   "cell_type": "markdown",
   "metadata": {},
   "source": [
    "# Introduction\n",
    "\n",
    "In this lab we will learn to design a digital signal synthesizer (DDS) from scratch using the provided verilog module [`ph_acc.v`](https://github.com/BerkeleyLab/Bedrock/blob/master/dsp/ph_acc.v), which is used in production for many LLRF systems as digital local oscillator (LO) and many more cases.\n",
    "\n",
    "\n",
    "## Glossary\n",
    "\n",
    "f_MO\n",
    ": Master Oscillator frequency, equals to the frequency of operation, or cavity RF frequency.\n",
    "\n",
    "f_IF\n",
    ": [Intermediate Frequency](https://en.wikipedia.org/wiki/Intermediate_frequency). RF signal processing is often performed at a frequency significantly below the frequency of operation. Signal at IF is typically produced \n",
    "by a [superheterodyne receiver](https://en.wikipedia.org/wiki/Heterodyne).\n",
    "\n",
    "f_LO\n",
    ": [Local Oscillator](https://en.wikipedia.org/wiki/Local_oscillator) frequency.\n",
    "\n",
    "f_CLK\n",
    ": ADC / DAC sampling clock, which is equal to the clock frequency of DSP logic.\n",
    "\n",
    "DAC\n",
    ": [Digital-to-analog converter](https://en.wikipedia.org/wiki/Digital-to-analog_converter), an electronics device that converts a sequence of digital codes to corresponding analog voltages or currents. We use Analog Devices [AD9781](https://www.analog.com/media/en/technical-documentation/data-sheets/ad9780_9781_9783.pdf) in [Zest](https://github.com/BerkeleyLab/Zest) digitizer board in the LLRF system.\n",
    "\n",
    "DDS\n",
    ": [Direct Digital Synthesis](https://www.analog.com/en/analog-dialogue/articles/all-about-direct-digital-synthesis.html). A technique for generating arbitrary frequencies and waveforms from a fixed-frequency clock source.\n",
    "\n",
    "NCO\n",
    ": [Numerically-controlled Oscillator](https://en.wikipedia.org/wiki/Numerically-controlled_oscillator)\n"
   ]
  },
  {
   "attachments": {},
   "cell_type": "markdown",
   "metadata": {},
   "source": [
    "## Binary and non-binary phase accumulator\n",
    "\n",
    "A DDS in LLRF system is normally built by a CORDIC driven by phase accumulator.\n",
    "Such a phase accumulator is basically a counter with a certain size of step size, so it rolls over at some period, which defines the output frequency $f_\\text{DDS}$.\n",
    "The linear phase output $\\theta$ drives a CORDIC for conversion to IQ samples, and a single tone sinusoidal signal is generated with frequency $f_\\text{DDS}$.\n",
    "\n",
    "A standard DDS (often referred as NCO) uses a N bit phase accumulator, with a register to define step size (often referred as frequency tunning word, FTW), so the output frequency is:\n",
    "\n",
    "$$\n",
    "    f_\\text{DDS} = \\frac{FTW}{2^N}f_\\text{CLK} \n",
    "$$\n",
    "\n",
    "This is restricted to powers of 2 as a denominator because the phase accumulator is a set of bits as wide as the frequency tuning word.\n",
    "\n",
    "Out `ph_acc.v` has non-binary phase accumulator using the modulo register, so the accumulator is set up to roll over before it reaches full capacity. Every time it rolls over, an extra LSB value is added to the phase accumulator. This is similar to the \"Programmable Modulus Mode\" in many of the DDS chips such as Analog Devices [AD9913](https://www.analog.com/media/en/technical-documentation/data-sheets/ad9913.pdf), [AD9915](https://www.analog.com/media/en/technical-documentation/data-sheets/ad9915.pdf), and the integrated 12GSPS RF DAC [AD9174](https://www.analog.com/media/en/technical-documentation/data-sheets/ad9174.pdf). The non-binary approach, especially the coarse-binary / fine-with-modulus\n",
    "approach, is mathematically equivalent to [Bresenham's line algorithm](\n",
    "https://en.wikipedia.org/wiki/Bresenham%27s_line_algorithm).\n",
    "\n",
    "The 12-bit modulo supports largest known periodicity in a suggested LLRF system,\n",
    "1427 for JLab.  For more normal periodicity, use a multiple to get finer\n",
    "granularity. \n",
    "\n",
    "For example, in SRRF LLRF, where $N=20$:\n",
    "\n",
    "| Setting        | Relation                        | Value  | Width |\n",
    "|----------------|-------------------------------- |--------|-------|\n",
    "|     IF/Fs      |$8/11$                           |        |       |\n",
    "| `phase_setp_h` | $2^{20} \\times 8 / 11$          | 762600 |    20 |\n",
    "| `phase_step_l` |$(2^{20}\\times 8\\%11)\\times 372$ |   2976 |    12 |\n",
    "|       `modulo` | $2^{12} - 372 \\times 11$        |      4 |    12 |\n",
    "\n",
    "In Argonne RIA test:\n",
    "\n",
    "| Setting       | Relation                         | Value  | Width |\n",
    "|---------------|----------------------------------|--------|-------|\n",
    "|     IF/Fs     | $9/13$                           |        |       |\n",
    "| `phase_setp_h`| $2^{20} \\times 9 / 13$           | 725937 |    20 |\n",
    "| `phase_step_l`| $(2^{20}\\times 9\\%13)\\times 315$ |    945 |    12 |\n",
    "|      `modulo` | $2^{12} - 315 \\times 13$         |      1 |    12 |\n",
    "\n",
    "If we use the `ph_acc.v` to drive a CORDIC phase, a digital LO in the LLRF system with both $\\sin(\\theta)$ and $\\cos(\\theta)$ is then constructed."
   ]
  },
  {
   "attachments": {},
   "cell_type": "markdown",
   "metadata": {},
   "source": [
    "# Exercises\n",
    "\n",
    "## Calculate registers for desired frequency\n",
    "\n",
    "The following example provides a way to derive the values for `ph_acc.v` from our class's LLRF LO DDS frequency setting:\n",
    "\n",
    "| Frequency    | Derivation  | Value  | Unit |\n",
    "|--------------|-------------|--------|------|\n",
    "| f_MO         |             | 480    | MHz  |\n",
    "| f_IF         | f_MO/24     | 20     | MHz  |\n",
    "| f_LO         | F_MO - F_IF | 460    | MHz  |\n",
    "| f_CLK        | f_LO / 4    | 115    | MHz  |\n",
    "| f_IF / f_CLK |             | 4 / 23 |      |\n",
    "\n",
    "We provide two functions for calculating the DDS register values:"
   ]
  },
  {
   "cell_type": "code",
   "execution_count": 1,
   "metadata": {},
   "outputs": [],
   "source": [
    "from dds import calc_dds, reg2freq"
   ]
  },
  {
   "attachments": {},
   "cell_type": "markdown",
   "metadata": {},
   "source": [
    "To calcuate register values:"
   ]
  },
  {
   "cell_type": "code",
   "execution_count": 2,
   "metadata": {},
   "outputs": [
    {
     "name": "stdout",
     "output_type": "stream",
     "text": [
      "ph: 182361, pl: 178, modulo: 2\n"
     ]
    }
   ],
   "source": [
    "num, den = 4, 23\n",
    "fclk = 115e6  # Hz\n",
    "\n",
    "ph, pl, modulo = calc_dds(num, den)\n",
    "print(f'ph: {ph}, pl: {pl}, modulo: {modulo}')"
   ]
  },
  {
   "attachments": {},
   "cell_type": "markdown",
   "metadata": {},
   "source": [
    "Verify DDS frequency, and print its frequency resolution:"
   ]
  },
  {
   "cell_type": "code",
   "execution_count": 3,
   "metadata": {},
   "outputs": [
    {
     "name": "stdout",
     "output_type": "stream",
     "text": [
      "major resolution:  109.673 Hz\n",
      "minor resolution:  0.027 Hz\n",
      "modulo resolution: 0.001 Hz\n",
      "DDS freq: 20.000 MHz\n"
     ]
    }
   ],
   "source": [
    "fdds = reg2freq(ph, pl, modulo, fclk)\n",
    "print(f'DDS freq: {fdds/1e6:.3f} MHz')"
   ]
  },
  {
   "attachments": {},
   "cell_type": "markdown",
   "metadata": {},
   "source": [
    "## Simulate DDS verilog module\n",
    "\n",
    "A basic DDS / NCO module can be as simple as a phase accumulator, with each step size being fractional frequency, so that when it overflows the phase *rotates* a cycle. `ph_acc.v` is designed by Larry Doolittle, with features of 20-bit major resolution and 12-bit minor resolution of frequency, with additional 12-bit modulo register for fractional frequency resolution beyond $2^32$ resolution. \n",
    "\n",
    "Run a behavior simulation and checkout the output using the provided `Makefile`, similar to previous lab exercises.\n",
    "The simulation will generate a data file that records the DDS output `phs_acc.csv` by:\n",
    "```bash\n",
    "$ make ph_acc.csv\n",
    "```\n",
    "\n",
    "Or explicitly:\n",
    "```bash\n",
    "$ iverilog -Wall -Wno-timescale -o ph_acc_tb ph_acc_tb.v ph_acc.v\n",
    "$ vvp -N ph_acc_tb +of=ph_acc.csv\n",
    "```\n",
    "\n",
    "Execute the above command, review the source code, testbench and data file.\n",
    "\n",
    "Plot the time domain waveform and its power spectrum density."
   ]
  },
  {
   "attachments": {},
   "cell_type": "markdown",
   "metadata": {},
   "source": [
    "## Derive a different setting for LBNL ALS-U LLRF\n",
    "\n",
    "Given the ALS-U LLRF setting:\n",
    "\n",
    "| Frequency    | Derivation  | Value  | Unit |\n",
    "|--------------|-------------|--------|------|\n",
    "| f_MO         |             | 500    | MHz  |\n",
    "| f_IF         | f_MO/12     | 41.67  | MHz  |\n",
    "| f_LO         | f_MO - f_IF | 458.33 | MHz  |\n",
    "| f_CLK        | f_LO / 4    | 114.58 | MHz  |\n",
    "| f_IF / f_CLK |             | 4 / 11 |      |\n",
    "\n",
    "Calcuate new values of `ph`, `pl` and `modulo` for digital LO.\n",
    "\n",
    "## Rerun the DDS verilog simulation\n",
    "\n",
    "The parameters of `ph`, `pl` and `modulo` can also be passed in the simulation at runtime, by command:\n",
    "```bash\n",
    "$ vvp -N ph_acc_tb +of=ph_acc.csv +ph=<new_ph> +pl=<new_pl> +modulo=<new_modulo>\n",
    "```\n",
    "\n",
    "Re-run using your settings and check the new spectrum."
   ]
  },
  {
   "attachments": {},
   "cell_type": "markdown",
   "metadata": {},
   "source": [
    "## Build complete DDS with CORDIC\n",
    "\n",
    "Use the USPAS setting, drive `cordicg_b22.v` which was discussed in CORDIC lab, write a complete DDS module with test bench, run simulation and inspect output spectrum."
   ]
  }
 ],
 "metadata": {
  "authors": [
   {
    "name": "Qiang Du"
   },
   {
    "name": "Larry Doolittle"
   }
  ],
  "kernelspec": {
   "display_name": "uspas",
   "language": "python",
   "name": "python3"
  },
  "language_info": {
   "codemirror_mode": {
    "name": "ipython",
    "version": 3
   },
   "file_extension": ".py",
   "mimetype": "text/x-python",
   "name": "python",
   "nbconvert_exporter": "python",
   "pygments_lexer": "ipython3",
   "version": "3.9.15 | packaged by conda-forge | (main, Nov 22 2022, 08:55:37) \n[Clang 14.0.6 ]"
  },
  "orig_nbformat": 4,
  "subtitle": "Lab 6",
  "title": "Direct Digital Synthesis",
  "vscode": {
   "interpreter": {
    "hash": "445213a42a0e253c9a968e12b105ea9b57be12018422e68920205282de5d5822"
   }
  }
 },
 "nbformat": 4,
 "nbformat_minor": 2
}
